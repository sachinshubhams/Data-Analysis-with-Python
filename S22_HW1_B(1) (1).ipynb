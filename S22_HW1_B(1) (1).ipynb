{
 "cells": [
  {
   "cell_type": "raw",
   "metadata": {},
   "source": [
    "© Copyright 2022, Mohamed Ibrahim Mohamed \n",
    "All rights reserved."
   ]
  },
  {
   "cell_type": "markdown",
   "metadata": {},
   "source": [
    "# Homework 1 - Part B"
   ]
  },
  {
   "cell_type": "markdown",
   "metadata": {},
   "source": [
    "## Import \"Volve production data.xlsx\", sheet \"Daily Production Data\" as DataFrame  \"data\". \n",
    "\n",
    "## After importing dataset, select only the following 9 columns out of all the columns in that dataframe\n",
    "[\"DATEPRD\",\"NPD_WELL_BORE_NAME\",\"ON_STREAM_HRS\",\"AVG_DOWNHOLE_PRESSURE\",\"AVG_DOWNHOLE_TEMPERATURE\",\"BORE_OIL_VOL\",\"BORE_GAS_VOL\",\"BORE_WAT_VOL\",\"FLOW_KIND\"] \n",
    "\n",
    "## Following lecture 4 practice example, perform Exploratory Data Analysis (EDA) and comment on your findings."
   ]
  },
  {
   "cell_type": "code",
   "execution_count": 1,
   "metadata": {},
   "outputs": [],
   "source": [
    "import pandas as pd \n",
    "import numpy as np \n",
    "import matplotlib.pyplot as plt # plots\n",
    "import seaborn as sns ## generates enhanced plots\n",
    "import warnings\n",
    "warnings.filterwarnings(\"ignore\")"
   ]
  },
  {
   "cell_type": "code",
   "execution_count": 2,
   "metadata": {},
   "outputs": [],
   "source": [
    "df = pd.read_excel('Volve production data(2).xlsx',sheet_name='Daily Production Data')\n",
    "df = df[[\"DATEPRD\",\"NPD_WELL_BORE_NAME\",\"ON_STREAM_HRS\",\"AVG_DOWNHOLE_PRESSURE\",\"AVG_DOWNHOLE_TEMPERATURE\",\"BORE_OIL_VOL\",\"BORE_GAS_VOL\",\"BORE_WAT_VOL\",\"FLOW_KIND\"]]"
   ]
  },
  {
   "cell_type": "code",
   "execution_count": 32,
   "metadata": {},
   "outputs": [
    {
     "data": {
      "text/html": [
       "<div>\n",
       "<style scoped>\n",
       "    .dataframe tbody tr th:only-of-type {\n",
       "        vertical-align: middle;\n",
       "    }\n",
       "\n",
       "    .dataframe tbody tr th {\n",
       "        vertical-align: top;\n",
       "    }\n",
       "\n",
       "    .dataframe thead th {\n",
       "        text-align: right;\n",
       "    }\n",
       "</style>\n",
       "<table border=\"1\" class=\"dataframe\">\n",
       "  <thead>\n",
       "    <tr style=\"text-align: right;\">\n",
       "      <th></th>\n",
       "      <th>DATEPRD</th>\n",
       "      <th>NPD_WELL_BORE_NAME</th>\n",
       "      <th>ON_STREAM_HRS</th>\n",
       "      <th>AVG_DOWNHOLE_PRESSURE</th>\n",
       "      <th>AVG_DOWNHOLE_TEMPERATURE</th>\n",
       "      <th>BORE_OIL_VOL</th>\n",
       "      <th>BORE_GAS_VOL</th>\n",
       "      <th>BORE_WAT_VOL</th>\n",
       "      <th>FLOW_KIND</th>\n",
       "    </tr>\n",
       "  </thead>\n",
       "  <tbody>\n",
       "    <tr>\n",
       "      <th>0</th>\n",
       "      <td>2014-04-07</td>\n",
       "      <td>15/9-F-1 C</td>\n",
       "      <td>0.0</td>\n",
       "      <td>0.00000</td>\n",
       "      <td>0.00000</td>\n",
       "      <td>0.0</td>\n",
       "      <td>0.0</td>\n",
       "      <td>0.0</td>\n",
       "      <td>production</td>\n",
       "    </tr>\n",
       "    <tr>\n",
       "      <th>1</th>\n",
       "      <td>2014-04-08</td>\n",
       "      <td>15/9-F-1 C</td>\n",
       "      <td>0.0</td>\n",
       "      <td>NaN</td>\n",
       "      <td>NaN</td>\n",
       "      <td>0.0</td>\n",
       "      <td>0.0</td>\n",
       "      <td>0.0</td>\n",
       "      <td>production</td>\n",
       "    </tr>\n",
       "    <tr>\n",
       "      <th>2</th>\n",
       "      <td>2014-04-09</td>\n",
       "      <td>15/9-F-1 C</td>\n",
       "      <td>0.0</td>\n",
       "      <td>NaN</td>\n",
       "      <td>NaN</td>\n",
       "      <td>0.0</td>\n",
       "      <td>0.0</td>\n",
       "      <td>0.0</td>\n",
       "      <td>production</td>\n",
       "    </tr>\n",
       "    <tr>\n",
       "      <th>3</th>\n",
       "      <td>2014-04-10</td>\n",
       "      <td>15/9-F-1 C</td>\n",
       "      <td>0.0</td>\n",
       "      <td>NaN</td>\n",
       "      <td>NaN</td>\n",
       "      <td>0.0</td>\n",
       "      <td>0.0</td>\n",
       "      <td>0.0</td>\n",
       "      <td>production</td>\n",
       "    </tr>\n",
       "    <tr>\n",
       "      <th>4</th>\n",
       "      <td>2014-04-11</td>\n",
       "      <td>15/9-F-1 C</td>\n",
       "      <td>0.0</td>\n",
       "      <td>310.37614</td>\n",
       "      <td>96.87589</td>\n",
       "      <td>0.0</td>\n",
       "      <td>0.0</td>\n",
       "      <td>0.0</td>\n",
       "      <td>production</td>\n",
       "    </tr>\n",
       "  </tbody>\n",
       "</table>\n",
       "</div>"
      ],
      "text/plain": [
       "     DATEPRD NPD_WELL_BORE_NAME  ON_STREAM_HRS  AVG_DOWNHOLE_PRESSURE  \\\n",
       "0 2014-04-07         15/9-F-1 C            0.0                0.00000   \n",
       "1 2014-04-08         15/9-F-1 C            0.0                    NaN   \n",
       "2 2014-04-09         15/9-F-1 C            0.0                    NaN   \n",
       "3 2014-04-10         15/9-F-1 C            0.0                    NaN   \n",
       "4 2014-04-11         15/9-F-1 C            0.0              310.37614   \n",
       "\n",
       "   AVG_DOWNHOLE_TEMPERATURE  BORE_OIL_VOL  BORE_GAS_VOL  BORE_WAT_VOL  \\\n",
       "0                   0.00000           0.0           0.0           0.0   \n",
       "1                       NaN           0.0           0.0           0.0   \n",
       "2                       NaN           0.0           0.0           0.0   \n",
       "3                       NaN           0.0           0.0           0.0   \n",
       "4                  96.87589           0.0           0.0           0.0   \n",
       "\n",
       "    FLOW_KIND  \n",
       "0  production  \n",
       "1  production  \n",
       "2  production  \n",
       "3  production  \n",
       "4  production  "
      ]
     },
     "execution_count": 32,
     "metadata": {},
     "output_type": "execute_result"
    }
   ],
   "source": [
    "df.head()"
   ]
  },
  {
   "cell_type": "code",
   "execution_count": 4,
   "metadata": {},
   "outputs": [
    {
     "data": {
      "text/plain": [
       "(15634, 9)"
      ]
     },
     "execution_count": 4,
     "metadata": {},
     "output_type": "execute_result"
    }
   ],
   "source": [
    "df.shape"
   ]
  },
  {
   "cell_type": "code",
   "execution_count": 5,
   "metadata": {},
   "outputs": [
    {
     "name": "stdout",
     "output_type": "stream",
     "text": [
      "<class 'pandas.core.frame.DataFrame'>\n",
      "RangeIndex: 15634 entries, 0 to 15633\n",
      "Data columns (total 9 columns):\n",
      " #   Column                    Non-Null Count  Dtype         \n",
      "---  ------                    --------------  -----         \n",
      " 0   DATEPRD                   15634 non-null  datetime64[ns]\n",
      " 1   NPD_WELL_BORE_NAME        15634 non-null  object        \n",
      " 2   ON_STREAM_HRS             15349 non-null  float64       \n",
      " 3   AVG_DOWNHOLE_PRESSURE     8980 non-null   float64       \n",
      " 4   AVG_DOWNHOLE_TEMPERATURE  8980 non-null   float64       \n",
      " 5   BORE_OIL_VOL              9161 non-null   float64       \n",
      " 6   BORE_GAS_VOL              9161 non-null   float64       \n",
      " 7   BORE_WAT_VOL              9161 non-null   float64       \n",
      " 8   FLOW_KIND                 15634 non-null  object        \n",
      "dtypes: datetime64[ns](1), float64(6), object(2)\n",
      "memory usage: 1.1+ MB\n"
     ]
    }
   ],
   "source": [
    "df.info()"
   ]
  },
  {
   "cell_type": "code",
   "execution_count": 6,
   "metadata": {},
   "outputs": [
    {
     "data": {
      "text/html": [
       "<div>\n",
       "<style scoped>\n",
       "    .dataframe tbody tr th:only-of-type {\n",
       "        vertical-align: middle;\n",
       "    }\n",
       "\n",
       "    .dataframe tbody tr th {\n",
       "        vertical-align: top;\n",
       "    }\n",
       "\n",
       "    .dataframe thead th {\n",
       "        text-align: right;\n",
       "    }\n",
       "</style>\n",
       "<table border=\"1\" class=\"dataframe\">\n",
       "  <thead>\n",
       "    <tr style=\"text-align: right;\">\n",
       "      <th></th>\n",
       "      <th>ON_STREAM_HRS</th>\n",
       "      <th>AVG_DOWNHOLE_PRESSURE</th>\n",
       "      <th>AVG_DOWNHOLE_TEMPERATURE</th>\n",
       "      <th>BORE_OIL_VOL</th>\n",
       "      <th>BORE_GAS_VOL</th>\n",
       "      <th>BORE_WAT_VOL</th>\n",
       "    </tr>\n",
       "  </thead>\n",
       "  <tbody>\n",
       "    <tr>\n",
       "      <th>count</th>\n",
       "      <td>15349.000000</td>\n",
       "      <td>8980.000000</td>\n",
       "      <td>8980.000000</td>\n",
       "      <td>9161.000000</td>\n",
       "      <td>9161.000000</td>\n",
       "      <td>9161.000000</td>\n",
       "    </tr>\n",
       "    <tr>\n",
       "      <th>mean</th>\n",
       "      <td>19.994093</td>\n",
       "      <td>181.803869</td>\n",
       "      <td>77.162969</td>\n",
       "      <td>1095.631548</td>\n",
       "      <td>161049.059703</td>\n",
       "      <td>1672.151332</td>\n",
       "    </tr>\n",
       "    <tr>\n",
       "      <th>std</th>\n",
       "      <td>8.369978</td>\n",
       "      <td>109.712363</td>\n",
       "      <td>45.657948</td>\n",
       "      <td>1323.538151</td>\n",
       "      <td>188136.410434</td>\n",
       "      <td>1706.982853</td>\n",
       "    </tr>\n",
       "    <tr>\n",
       "      <th>min</th>\n",
       "      <td>0.000000</td>\n",
       "      <td>0.000000</td>\n",
       "      <td>0.000000</td>\n",
       "      <td>0.000000</td>\n",
       "      <td>0.000000</td>\n",
       "      <td>-457.840000</td>\n",
       "    </tr>\n",
       "    <tr>\n",
       "      <th>25%</th>\n",
       "      <td>24.000000</td>\n",
       "      <td>0.000000</td>\n",
       "      <td>0.000000</td>\n",
       "      <td>190.690000</td>\n",
       "      <td>29430.590000</td>\n",
       "      <td>19.870000</td>\n",
       "    </tr>\n",
       "    <tr>\n",
       "      <th>50%</th>\n",
       "      <td>24.000000</td>\n",
       "      <td>232.896939</td>\n",
       "      <td>103.186689</td>\n",
       "      <td>557.550000</td>\n",
       "      <td>87749.660000</td>\n",
       "      <td>1097.790000</td>\n",
       "    </tr>\n",
       "    <tr>\n",
       "      <th>75%</th>\n",
       "      <td>24.000000</td>\n",
       "      <td>255.401455</td>\n",
       "      <td>106.276591</td>\n",
       "      <td>1345.200000</td>\n",
       "      <td>202482.300000</td>\n",
       "      <td>3260.950000</td>\n",
       "    </tr>\n",
       "    <tr>\n",
       "      <th>max</th>\n",
       "      <td>25.000000</td>\n",
       "      <td>397.588550</td>\n",
       "      <td>108.502178</td>\n",
       "      <td>5901.840000</td>\n",
       "      <td>851131.520000</td>\n",
       "      <td>8019.740000</td>\n",
       "    </tr>\n",
       "  </tbody>\n",
       "</table>\n",
       "</div>"
      ],
      "text/plain": [
       "       ON_STREAM_HRS  AVG_DOWNHOLE_PRESSURE  AVG_DOWNHOLE_TEMPERATURE  \\\n",
       "count   15349.000000            8980.000000               8980.000000   \n",
       "mean       19.994093             181.803869                 77.162969   \n",
       "std         8.369978             109.712363                 45.657948   \n",
       "min         0.000000               0.000000                  0.000000   \n",
       "25%        24.000000               0.000000                  0.000000   \n",
       "50%        24.000000             232.896939                103.186689   \n",
       "75%        24.000000             255.401455                106.276591   \n",
       "max        25.000000             397.588550                108.502178   \n",
       "\n",
       "       BORE_OIL_VOL   BORE_GAS_VOL  BORE_WAT_VOL  \n",
       "count   9161.000000    9161.000000   9161.000000  \n",
       "mean    1095.631548  161049.059703   1672.151332  \n",
       "std     1323.538151  188136.410434   1706.982853  \n",
       "min        0.000000       0.000000   -457.840000  \n",
       "25%      190.690000   29430.590000     19.870000  \n",
       "50%      557.550000   87749.660000   1097.790000  \n",
       "75%     1345.200000  202482.300000   3260.950000  \n",
       "max     5901.840000  851131.520000   8019.740000  "
      ]
     },
     "execution_count": 6,
     "metadata": {},
     "output_type": "execute_result"
    }
   ],
   "source": [
    "df.describe()"
   ]
  },
  {
   "cell_type": "markdown",
   "metadata": {},
   "source": [
    "## Using well 15/9-F-11 as Case Study\n",
    "<pr> answer the following questions<pr>"
   ]
  },
  {
   "cell_type": "markdown",
   "metadata": {},
   "source": [
    "## How many columns with missing data ?"
   ]
  },
  {
   "cell_type": "code",
   "execution_count": 11,
   "metadata": {},
   "outputs": [
    {
     "data": {
      "text/html": [
       "<div>\n",
       "<style scoped>\n",
       "    .dataframe tbody tr th:only-of-type {\n",
       "        vertical-align: middle;\n",
       "    }\n",
       "\n",
       "    .dataframe tbody tr th {\n",
       "        vertical-align: top;\n",
       "    }\n",
       "\n",
       "    .dataframe thead th {\n",
       "        text-align: right;\n",
       "    }\n",
       "</style>\n",
       "<table border=\"1\" class=\"dataframe\">\n",
       "  <thead>\n",
       "    <tr style=\"text-align: right;\">\n",
       "      <th></th>\n",
       "      <th>DATEPRD</th>\n",
       "      <th>NPD_WELL_BORE_NAME</th>\n",
       "      <th>ON_STREAM_HRS</th>\n",
       "      <th>AVG_DOWNHOLE_PRESSURE</th>\n",
       "      <th>AVG_DOWNHOLE_TEMPERATURE</th>\n",
       "      <th>BORE_OIL_VOL</th>\n",
       "      <th>BORE_GAS_VOL</th>\n",
       "      <th>BORE_WAT_VOL</th>\n",
       "      <th>FLOW_KIND</th>\n",
       "    </tr>\n",
       "  </thead>\n",
       "  <tbody>\n",
       "    <tr>\n",
       "      <th>746</th>\n",
       "      <td>2013-07-08</td>\n",
       "      <td>15/9-F-11</td>\n",
       "      <td>0.0</td>\n",
       "      <td>0.0</td>\n",
       "      <td>0.0</td>\n",
       "      <td>0.0</td>\n",
       "      <td>0.0</td>\n",
       "      <td>0.0</td>\n",
       "      <td>production</td>\n",
       "    </tr>\n",
       "    <tr>\n",
       "      <th>747</th>\n",
       "      <td>2013-07-09</td>\n",
       "      <td>15/9-F-11</td>\n",
       "      <td>0.0</td>\n",
       "      <td>0.0</td>\n",
       "      <td>0.0</td>\n",
       "      <td>0.0</td>\n",
       "      <td>0.0</td>\n",
       "      <td>0.0</td>\n",
       "      <td>production</td>\n",
       "    </tr>\n",
       "    <tr>\n",
       "      <th>748</th>\n",
       "      <td>2013-07-10</td>\n",
       "      <td>15/9-F-11</td>\n",
       "      <td>0.0</td>\n",
       "      <td>NaN</td>\n",
       "      <td>NaN</td>\n",
       "      <td>0.0</td>\n",
       "      <td>0.0</td>\n",
       "      <td>0.0</td>\n",
       "      <td>production</td>\n",
       "    </tr>\n",
       "    <tr>\n",
       "      <th>749</th>\n",
       "      <td>2013-07-11</td>\n",
       "      <td>15/9-F-11</td>\n",
       "      <td>0.0</td>\n",
       "      <td>0.0</td>\n",
       "      <td>0.0</td>\n",
       "      <td>0.0</td>\n",
       "      <td>0.0</td>\n",
       "      <td>0.0</td>\n",
       "      <td>production</td>\n",
       "    </tr>\n",
       "    <tr>\n",
       "      <th>750</th>\n",
       "      <td>2013-07-12</td>\n",
       "      <td>15/9-F-11</td>\n",
       "      <td>0.0</td>\n",
       "      <td>NaN</td>\n",
       "      <td>NaN</td>\n",
       "      <td>0.0</td>\n",
       "      <td>0.0</td>\n",
       "      <td>0.0</td>\n",
       "      <td>production</td>\n",
       "    </tr>\n",
       "  </tbody>\n",
       "</table>\n",
       "</div>"
      ],
      "text/plain": [
       "       DATEPRD NPD_WELL_BORE_NAME  ON_STREAM_HRS  AVG_DOWNHOLE_PRESSURE  \\\n",
       "746 2013-07-08          15/9-F-11            0.0                    0.0   \n",
       "747 2013-07-09          15/9-F-11            0.0                    0.0   \n",
       "748 2013-07-10          15/9-F-11            0.0                    NaN   \n",
       "749 2013-07-11          15/9-F-11            0.0                    0.0   \n",
       "750 2013-07-12          15/9-F-11            0.0                    NaN   \n",
       "\n",
       "     AVG_DOWNHOLE_TEMPERATURE  BORE_OIL_VOL  BORE_GAS_VOL  BORE_WAT_VOL  \\\n",
       "746                       0.0           0.0           0.0           0.0   \n",
       "747                       0.0           0.0           0.0           0.0   \n",
       "748                       NaN           0.0           0.0           0.0   \n",
       "749                       0.0           0.0           0.0           0.0   \n",
       "750                       NaN           0.0           0.0           0.0   \n",
       "\n",
       "      FLOW_KIND  \n",
       "746  production  \n",
       "747  production  \n",
       "748  production  \n",
       "749  production  \n",
       "750  production  "
      ]
     },
     "execution_count": 11,
     "metadata": {},
     "output_type": "execute_result"
    }
   ],
   "source": [
    "#filtering NPD_WELL_BORE_NAME = '15/9-F-11'\n",
    "df_well = df[df.NPD_WELL_BORE_NAME == '15/9-F-11']\n",
    "df_well.head()"
   ]
  },
  {
   "cell_type": "code",
   "execution_count": 24,
   "metadata": {},
   "outputs": [
    {
     "data": {
      "text/plain": [
       "DATEPRD                     False\n",
       "NPD_WELL_BORE_NAME          False\n",
       "ON_STREAM_HRS               False\n",
       "AVG_DOWNHOLE_PRESSURE        True\n",
       "AVG_DOWNHOLE_TEMPERATURE     True\n",
       "BORE_OIL_VOL                False\n",
       "BORE_GAS_VOL                False\n",
       "BORE_WAT_VOL                False\n",
       "FLOW_KIND                   False\n",
       "dtype: bool"
      ]
     },
     "execution_count": 24,
     "metadata": {},
     "output_type": "execute_result"
    }
   ],
   "source": [
    "#columns with missing data\n",
    "df_well.isna().any(axis=0)"
   ]
  },
  {
   "cell_type": "markdown",
   "metadata": {},
   "source": [
    "## How many rows with missing data ?"
   ]
  },
  {
   "cell_type": "code",
   "execution_count": 25,
   "metadata": {},
   "outputs": [
    {
     "data": {
      "text/html": [
       "<div>\n",
       "<style scoped>\n",
       "    .dataframe tbody tr th:only-of-type {\n",
       "        vertical-align: middle;\n",
       "    }\n",
       "\n",
       "    .dataframe tbody tr th {\n",
       "        vertical-align: top;\n",
       "    }\n",
       "\n",
       "    .dataframe thead th {\n",
       "        text-align: right;\n",
       "    }\n",
       "</style>\n",
       "<table border=\"1\" class=\"dataframe\">\n",
       "  <thead>\n",
       "    <tr style=\"text-align: right;\">\n",
       "      <th></th>\n",
       "      <th>DATEPRD</th>\n",
       "      <th>NPD_WELL_BORE_NAME</th>\n",
       "      <th>ON_STREAM_HRS</th>\n",
       "      <th>AVG_DOWNHOLE_PRESSURE</th>\n",
       "      <th>AVG_DOWNHOLE_TEMPERATURE</th>\n",
       "      <th>BORE_OIL_VOL</th>\n",
       "      <th>BORE_GAS_VOL</th>\n",
       "      <th>BORE_WAT_VOL</th>\n",
       "      <th>FLOW_KIND</th>\n",
       "    </tr>\n",
       "  </thead>\n",
       "  <tbody>\n",
       "    <tr>\n",
       "      <th>748</th>\n",
       "      <td>2013-07-10</td>\n",
       "      <td>15/9-F-11</td>\n",
       "      <td>0.0</td>\n",
       "      <td>NaN</td>\n",
       "      <td>NaN</td>\n",
       "      <td>0.00</td>\n",
       "      <td>0.00</td>\n",
       "      <td>0.0</td>\n",
       "      <td>production</td>\n",
       "    </tr>\n",
       "    <tr>\n",
       "      <th>750</th>\n",
       "      <td>2013-07-12</td>\n",
       "      <td>15/9-F-11</td>\n",
       "      <td>0.0</td>\n",
       "      <td>NaN</td>\n",
       "      <td>NaN</td>\n",
       "      <td>0.00</td>\n",
       "      <td>0.00</td>\n",
       "      <td>0.0</td>\n",
       "      <td>production</td>\n",
       "    </tr>\n",
       "    <tr>\n",
       "      <th>761</th>\n",
       "      <td>2013-07-23</td>\n",
       "      <td>15/9-F-11</td>\n",
       "      <td>0.0</td>\n",
       "      <td>NaN</td>\n",
       "      <td>NaN</td>\n",
       "      <td>0.00</td>\n",
       "      <td>0.00</td>\n",
       "      <td>0.0</td>\n",
       "      <td>production</td>\n",
       "    </tr>\n",
       "    <tr>\n",
       "      <th>764</th>\n",
       "      <td>2013-07-26</td>\n",
       "      <td>15/9-F-11</td>\n",
       "      <td>24.0</td>\n",
       "      <td>NaN</td>\n",
       "      <td>NaN</td>\n",
       "      <td>891.48</td>\n",
       "      <td>131386.55</td>\n",
       "      <td>0.0</td>\n",
       "      <td>production</td>\n",
       "    </tr>\n",
       "    <tr>\n",
       "      <th>765</th>\n",
       "      <td>2013-07-27</td>\n",
       "      <td>15/9-F-11</td>\n",
       "      <td>24.0</td>\n",
       "      <td>NaN</td>\n",
       "      <td>NaN</td>\n",
       "      <td>886.42</td>\n",
       "      <td>134616.72</td>\n",
       "      <td>0.0</td>\n",
       "      <td>production</td>\n",
       "    </tr>\n",
       "    <tr>\n",
       "      <th>768</th>\n",
       "      <td>2013-07-30</td>\n",
       "      <td>15/9-F-11</td>\n",
       "      <td>24.0</td>\n",
       "      <td>NaN</td>\n",
       "      <td>NaN</td>\n",
       "      <td>1032.38</td>\n",
       "      <td>155864.67</td>\n",
       "      <td>0.0</td>\n",
       "      <td>production</td>\n",
       "    </tr>\n",
       "  </tbody>\n",
       "</table>\n",
       "</div>"
      ],
      "text/plain": [
       "       DATEPRD NPD_WELL_BORE_NAME  ON_STREAM_HRS  AVG_DOWNHOLE_PRESSURE  \\\n",
       "748 2013-07-10          15/9-F-11            0.0                    NaN   \n",
       "750 2013-07-12          15/9-F-11            0.0                    NaN   \n",
       "761 2013-07-23          15/9-F-11            0.0                    NaN   \n",
       "764 2013-07-26          15/9-F-11           24.0                    NaN   \n",
       "765 2013-07-27          15/9-F-11           24.0                    NaN   \n",
       "768 2013-07-30          15/9-F-11           24.0                    NaN   \n",
       "\n",
       "     AVG_DOWNHOLE_TEMPERATURE  BORE_OIL_VOL  BORE_GAS_VOL  BORE_WAT_VOL  \\\n",
       "748                       NaN          0.00          0.00           0.0   \n",
       "750                       NaN          0.00          0.00           0.0   \n",
       "761                       NaN          0.00          0.00           0.0   \n",
       "764                       NaN        891.48     131386.55           0.0   \n",
       "765                       NaN        886.42     134616.72           0.0   \n",
       "768                       NaN       1032.38     155864.67           0.0   \n",
       "\n",
       "      FLOW_KIND  \n",
       "748  production  \n",
       "750  production  \n",
       "761  production  \n",
       "764  production  \n",
       "765  production  \n",
       "768  production  "
      ]
     },
     "execution_count": 25,
     "metadata": {},
     "output_type": "execute_result"
    }
   ],
   "source": [
    "df_well[df_well.isna().any(axis=1)]"
   ]
  },
  {
   "cell_type": "markdown",
   "metadata": {},
   "source": [
    "## What is the last non-NAN data in well 15/9-F-11?"
   ]
  },
  {
   "cell_type": "code",
   "execution_count": 33,
   "metadata": {},
   "outputs": [
    {
     "data": {
      "text/html": [
       "<div>\n",
       "<style scoped>\n",
       "    .dataframe tbody tr th:only-of-type {\n",
       "        vertical-align: middle;\n",
       "    }\n",
       "\n",
       "    .dataframe tbody tr th {\n",
       "        vertical-align: top;\n",
       "    }\n",
       "\n",
       "    .dataframe thead th {\n",
       "        text-align: right;\n",
       "    }\n",
       "</style>\n",
       "<table border=\"1\" class=\"dataframe\">\n",
       "  <thead>\n",
       "    <tr style=\"text-align: right;\">\n",
       "      <th></th>\n",
       "      <th>DATEPRD</th>\n",
       "      <th>NPD_WELL_BORE_NAME</th>\n",
       "      <th>ON_STREAM_HRS</th>\n",
       "      <th>AVG_DOWNHOLE_PRESSURE</th>\n",
       "      <th>AVG_DOWNHOLE_TEMPERATURE</th>\n",
       "      <th>BORE_OIL_VOL</th>\n",
       "      <th>BORE_GAS_VOL</th>\n",
       "      <th>BORE_WAT_VOL</th>\n",
       "      <th>FLOW_KIND</th>\n",
       "    </tr>\n",
       "  </thead>\n",
       "  <tbody>\n",
       "    <tr>\n",
       "      <th>1910</th>\n",
       "      <td>2016-09-17</td>\n",
       "      <td>15/9-F-11</td>\n",
       "      <td>8.27514</td>\n",
       "      <td>253.546058</td>\n",
       "      <td>105.279492</td>\n",
       "      <td>180.04</td>\n",
       "      <td>32165.98</td>\n",
       "      <td>896.59</td>\n",
       "      <td>production</td>\n",
       "    </tr>\n",
       "  </tbody>\n",
       "</table>\n",
       "</div>"
      ],
      "text/plain": [
       "        DATEPRD NPD_WELL_BORE_NAME  ON_STREAM_HRS  AVG_DOWNHOLE_PRESSURE  \\\n",
       "1910 2016-09-17          15/9-F-11        8.27514             253.546058   \n",
       "\n",
       "      AVG_DOWNHOLE_TEMPERATURE  BORE_OIL_VOL  BORE_GAS_VOL  BORE_WAT_VOL  \\\n",
       "1910                105.279492        180.04      32165.98        896.59   \n",
       "\n",
       "       FLOW_KIND  \n",
       "1910  production  "
      ]
     },
     "execution_count": 33,
     "metadata": {},
     "output_type": "execute_result"
    }
   ],
   "source": [
    "df_well[(df_well.NPD_WELL_BORE_NAME == '15/9-F-11')&(~np.isnan(df.BORE_OIL_VOL))][-1:]"
   ]
  },
  {
   "cell_type": "markdown",
   "metadata": {},
   "source": [
    "## How many datapoints in Well 15/9-F-11 were involved with production and injection ?"
   ]
  },
  {
   "cell_type": "code",
   "execution_count": 34,
   "metadata": {},
   "outputs": [
    {
     "data": {
      "text/plain": [
       "array(['production'], dtype=object)"
      ]
     },
     "execution_count": 34,
     "metadata": {},
     "output_type": "execute_result"
    }
   ],
   "source": [
    "df_well[df_well.NPD_WELL_BORE_NAME == '15/9-F-11'].FLOW_KIND.unique()"
   ]
  },
  {
   "cell_type": "code",
   "execution_count": 35,
   "metadata": {},
   "outputs": [],
   "source": [
    "# datapoints in Well 15/9-F-11 were involved with production\n",
    "production_datapoints=df_well[(df_well.NPD_WELL_BORE_NAME == '15/9-F-11') & (df.FLOW_KIND == \"production\")].shape[0]"
   ]
  },
  {
   "cell_type": "code",
   "execution_count": 36,
   "metadata": {},
   "outputs": [],
   "source": [
    "# datapoints in Well 15/9-F-11 were involved with injection\n",
    "injection_datapoints=df_well[(df_well.NPD_WELL_BORE_NAME == '15/9-F-11') & (df.FLOW_KIND == \"injection\")].shape[0]"
   ]
  },
  {
   "cell_type": "code",
   "execution_count": 37,
   "metadata": {},
   "outputs": [
    {
     "name": "stdout",
     "output_type": "stream",
     "text": [
      "Total production datapoints 1165\n"
     ]
    }
   ],
   "source": [
    "print('Total production datapoints',production_datapoints)"
   ]
  },
  {
   "cell_type": "code",
   "execution_count": 38,
   "metadata": {},
   "outputs": [
    {
     "name": "stdout",
     "output_type": "stream",
     "text": [
      "Total injection datapoints 0\n"
     ]
    }
   ],
   "source": [
    "print('Total injection datapoints',injection_datapoints)"
   ]
  },
  {
   "cell_type": "markdown",
   "metadata": {},
   "source": [
    "## Using your best judgment, deal with the empty rows/columns if any."
   ]
  },
  {
   "cell_type": "code",
   "execution_count": 42,
   "metadata": {},
   "outputs": [],
   "source": [
    "df_well_drop_na=df_well.dropna()"
   ]
  },
  {
   "cell_type": "code",
   "execution_count": 43,
   "metadata": {},
   "outputs": [
    {
     "name": "stdout",
     "output_type": "stream",
     "text": [
      "<class 'pandas.core.frame.DataFrame'>\n",
      "Int64Index: 1159 entries, 746 to 1910\n",
      "Data columns (total 9 columns):\n",
      " #   Column                    Non-Null Count  Dtype         \n",
      "---  ------                    --------------  -----         \n",
      " 0   DATEPRD                   1159 non-null   datetime64[ns]\n",
      " 1   NPD_WELL_BORE_NAME        1159 non-null   object        \n",
      " 2   ON_STREAM_HRS             1159 non-null   float64       \n",
      " 3   AVG_DOWNHOLE_PRESSURE     1159 non-null   float64       \n",
      " 4   AVG_DOWNHOLE_TEMPERATURE  1159 non-null   float64       \n",
      " 5   BORE_OIL_VOL              1159 non-null   float64       \n",
      " 6   BORE_GAS_VOL              1159 non-null   float64       \n",
      " 7   BORE_WAT_VOL              1159 non-null   float64       \n",
      " 8   FLOW_KIND                 1159 non-null   object        \n",
      "dtypes: datetime64[ns](1), float64(6), object(2)\n",
      "memory usage: 90.5+ KB\n"
     ]
    }
   ],
   "source": [
    "df_well_drop_na.info()"
   ]
  },
  {
   "cell_type": "markdown",
   "metadata": {},
   "source": [
    "## How many years of this well has been operating ?"
   ]
  },
  {
   "cell_type": "code",
   "execution_count": 53,
   "metadata": {},
   "outputs": [],
   "source": [
    "df_well_drop_na[\"DATEPRD\"] = pd.to_datetime(df_well_drop_na.DATEPRD, format='%Y')"
   ]
  },
  {
   "cell_type": "code",
   "execution_count": 54,
   "metadata": {},
   "outputs": [
    {
     "data": {
      "text/plain": [
       "array([2013, 2014, 2015, 2016], dtype=int64)"
      ]
     },
     "execution_count": 54,
     "metadata": {},
     "output_type": "execute_result"
    }
   ],
   "source": [
    "df_well_drop_na.DATEPRD.dt.year.unique()"
   ]
  },
  {
   "cell_type": "markdown",
   "metadata": {},
   "source": [
    "## What is the Cumulative Production Per Year ? plot it."
   ]
  },
  {
   "cell_type": "code",
   "execution_count": 55,
   "metadata": {},
   "outputs": [],
   "source": [
    "df_well_drop_na['Year']=df_well_drop_na.DATEPRD.dt.year"
   ]
  },
  {
   "cell_type": "code",
   "execution_count": 56,
   "metadata": {},
   "outputs": [
    {
     "data": {
      "text/html": [
       "<div>\n",
       "<style scoped>\n",
       "    .dataframe tbody tr th:only-of-type {\n",
       "        vertical-align: middle;\n",
       "    }\n",
       "\n",
       "    .dataframe tbody tr th {\n",
       "        vertical-align: top;\n",
       "    }\n",
       "\n",
       "    .dataframe thead th {\n",
       "        text-align: right;\n",
       "    }\n",
       "</style>\n",
       "<table border=\"1\" class=\"dataframe\">\n",
       "  <thead>\n",
       "    <tr style=\"text-align: right;\">\n",
       "      <th></th>\n",
       "      <th>BORE_OIL_VOL</th>\n",
       "    </tr>\n",
       "    <tr>\n",
       "      <th>Year</th>\n",
       "      <th></th>\n",
       "    </tr>\n",
       "  </thead>\n",
       "  <tbody>\n",
       "    <tr>\n",
       "      <th>2013</th>\n",
       "      <td>153290.55</td>\n",
       "    </tr>\n",
       "    <tr>\n",
       "      <th>2014</th>\n",
       "      <td>362223.03</td>\n",
       "    </tr>\n",
       "    <tr>\n",
       "      <th>2015</th>\n",
       "      <td>465817.60</td>\n",
       "    </tr>\n",
       "    <tr>\n",
       "      <th>2016</th>\n",
       "      <td>163707.64</td>\n",
       "    </tr>\n",
       "  </tbody>\n",
       "</table>\n",
       "</div>"
      ],
      "text/plain": [
       "      BORE_OIL_VOL\n",
       "Year              \n",
       "2013     153290.55\n",
       "2014     362223.03\n",
       "2015     465817.60\n",
       "2016     163707.64"
      ]
     },
     "execution_count": 56,
     "metadata": {},
     "output_type": "execute_result"
    }
   ],
   "source": [
    "df_well_drop_na[[\"BORE_OIL_VOL\",\"Year\"]].groupby([\"Year\"]).sum()"
   ]
  },
  {
   "cell_type": "code",
   "execution_count": 65,
   "metadata": {},
   "outputs": [
    {
     "data": {
      "image/png": "[encoded data removed]",
      "text/plain": [
       "<Figure size 1440x720 with 1 Axes>"
      ]
     },
     "metadata": {
      "needs_background": "light"
     },
     "output_type": "display_data"
    }
   ],
   "source": [
    "fig, ax = plt.subplots(figsize=(20,10))\n",
    "# plot\n",
    "df_well_drop_na[[\"BORE_OIL_VOL\",\"Year\"]].groupby([\"Year\"]).sum().plot(ax = ax, kind = \"bar\", fontsize = 20)\n",
    "# y axis label\n",
    "ax.set_ylabel(\"Total Oil Volume\", fontsize = 20)\n",
    "# x axis label\n",
    "ax.set_xlabel(\"Year\", fontsize = 20)\n",
    "# title\n",
    "ax.set_title(\"Total Production Per Year\", fontsize = 20)\n",
    "plt.show()"
   ]
  },
  {
   "cell_type": "markdown",
   "metadata": {},
   "source": [
    "## Draw a line Plot of Oil and Production History on same axes"
   ]
  },
  {
   "cell_type": "code",
   "execution_count": null,
   "metadata": {},
   "outputs": [],
   "source": []
  },
  {
   "cell_type": "markdown",
   "metadata": {},
   "source": [
    "## Using box, plots what is the distribution of Pressure/Temperature by year ?"
   ]
  },
  {
   "cell_type": "code",
   "execution_count": null,
   "metadata": {},
   "outputs": [],
   "source": []
  },
  {
   "cell_type": "markdown",
   "metadata": {},
   "source": [
    "## After consulting with SME (onwer of the data), it was concluded that pressure readings below 200 and temperature readings below 65 are considered anomalies. <br>\n",
    "\n",
    "## After filtering the data redo the previous question."
   ]
  },
  {
   "cell_type": "code",
   "execution_count": null,
   "metadata": {},
   "outputs": [],
   "source": []
  }
 ],
 "metadata": {
  "kernelspec": {
   "display_name": "Python 3",
   "language": "python",
   "name": "python3"
  },
  "language_info": {
   "codemirror_mode": {
    "name": "ipython",
    "version": 3
   },
   "file_extension": ".py",
   "mimetype": "text/x-python",
   "name": "python",
   "nbconvert_exporter": "python",
   "pygments_lexer": "ipython3",
   "version": "3.8.5"
  }
 },
 "nbformat": 4,
 "nbformat_minor": 4
}
